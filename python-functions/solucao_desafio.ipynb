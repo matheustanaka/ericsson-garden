{
 "cells": [
  {
   "cell_type": "markdown",
   "metadata": {},
   "source": [
    "# Solução do Desafio 1\n",
    "### DESAFIO 1: Função de Saudação.\n",
    "\n",
    "Escreva uma função chamada **saudacao** que aceite um parâmetro **nome**. A função deve retornar uma string no formato:\n",
    "\n",
    "\"Olá,[nome]! Seja Bem-vindo ao ECAC!\"."
   ]
  },
  {
   "cell_type": "code",
   "execution_count": 1,
   "metadata": {},
   "outputs": [
    {
     "data": {
      "text/plain": [
       "'Olá, Ana! Seja Bem-vindo ao ECAC'"
      ]
     },
     "execution_count": 1,
     "metadata": {},
     "output_type": "execute_result"
    }
   ],
   "source": [
    "def saudacao(nome):\n",
    "    return f\"Olá, {nome}! Seja Bem-vindo ao ECAC\"\n",
    "\n",
    "# Testando a função:\n",
    "saudacao(\"Ana\")"
   ]
  },
  {
   "cell_type": "markdown",
   "metadata": {},
   "source": [
    "# Solução do Desafio 2\n",
    "### DESAFIO 2: Calcular área do retangulo.\n",
    "\n",
    "Escreva uma função chamada **area_retangulo** que aceite dois parâmetros: **largura** e **altura**. A função deve calcular e retornar a área de um retângulo usando a fórmula **largura * altura**."
   ]
  },
  {
   "cell_type": "code",
   "execution_count": 2,
   "metadata": {},
   "outputs": [
    {
     "data": {
      "text/plain": [
       "50"
      ]
     },
     "execution_count": 2,
     "metadata": {},
     "output_type": "execute_result"
    }
   ],
   "source": [
    "def area_retangulo(largura, altura):\n",
    "    return largura * altura\n",
    "\n",
    "# Testando a função:\n",
    "area_retangulo(5, 10)  # Deve imprimir 50"
   ]
  }
 ],
 "metadata": {
  "kernelspec": {
   "display_name": "Python 3",
   "language": "python",
   "name": "python3"
  },
  "language_info": {
   "codemirror_mode": {
    "name": "ipython",
    "version": 3
   },
   "file_extension": ".py",
   "mimetype": "text/x-python",
   "name": "python",
   "nbconvert_exporter": "python",
   "pygments_lexer": "ipython3",
   "version": "3.9.18"
  }
 },
 "nbformat": 4,
 "nbformat_minor": 2
}
