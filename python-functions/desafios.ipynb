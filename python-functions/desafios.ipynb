{
 "cells": [
  {
   "cell_type": "markdown",
   "metadata": {},
   "source": [
    "# DESAFIO 1: Função de Saudação.\n",
    "\n",
    "Escreva uma função chamada **saudacao** que aceite um parâmetro **nome**. A função deve retornar uma string no formato:\n",
    "\n",
    "\"Olá,[nome]! Seja Bem-vindo ao ECAC!\"."
   ]
  },
  {
   "cell_type": "code",
   "execution_count": 3,
   "metadata": {},
   "outputs": [
    {
     "data": {
      "text/plain": [
       "'Olá, Matheus! Seja bem-vindo(a) ao ECAC!'"
      ]
     },
     "execution_count": 3,
     "metadata": {},
     "output_type": "execute_result"
    }
   ],
   "source": [
    "# Escreva sua função abaixo:\n",
    "\n",
    "\n",
    "# Chamada da função\n",
    "saudacao(\"Seu Nome\")"
   ]
  },
  {
   "cell_type": "markdown",
   "metadata": {},
   "source": [
    "# DESAFIO 2: Calcular área do retangulo.\n",
    "\n",
    "Escreva uma função chamada **area_retangulo** que aceite dois parâmetros: **largura** e **altura**. A função deve calcular e retornar a área de um retângulo usando a fórmula **largura * altura**."
   ]
  },
  {
   "cell_type": "code",
   "execution_count": null,
   "metadata": {},
   "outputs": [],
   "source": [
    "# Escreva sua função abaixo:\n",
    "\n",
    "\n",
    "# Chamada da função\n",
    "area_retangulo(5, 10)"
   ]
  }
 ],
 "metadata": {
  "kernelspec": {
   "display_name": "Python 3",
   "language": "python",
   "name": "python3"
  },
  "language_info": {
   "codemirror_mode": {
    "name": "ipython",
    "version": 3
   },
   "file_extension": ".py",
   "mimetype": "text/x-python",
   "name": "python",
   "nbconvert_exporter": "python",
   "pygments_lexer": "ipython3",
   "version": "3.9.18"
  }
 },
 "nbformat": 4,
 "nbformat_minor": 2
}
