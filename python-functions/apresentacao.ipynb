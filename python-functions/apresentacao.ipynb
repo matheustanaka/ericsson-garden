{
 "cells": [
  {
   "cell_type": "markdown",
   "metadata": {},
   "source": [
    "### O que é uma função?\n",
    "\n",
    "É um bloco de código que é utilizado para executar uma ação ou uma determinada tarefa. Utilizar funções no código é uma forma de organizar e automatizar tarefas repetitivas.\n",
    "\n",
    "### Quando utilizar uma função?\n",
    "\n",
    "- Reutilizar um código → Em vez de repetir o mesmo código várias vezes, podemos definir uma função e chama-la sempre que precisarmos realizar aquela ação.\n",
    "- Modularidade → Podemos “quebrar” um programa complexo em partes menores, deixando o código mais simples e claro.\n",
    "- Manutenção de código → Se uma tarefa específica, realizada em várias partes do programa, precisar ser modificada, basta modificar a função correspondente ao invés de fazer mudanças em vários lugares.\n",
    "- Abstração → Podemos esconder os detalhes de uma implementação e mostrar apenas a funcionalidade, tornando o código mais compreensível."
   ]
  },
  {
   "cell_type": "markdown",
   "metadata": {},
   "source": [
    "### Como declarar uma função?\n",
    "\n",
    "Para declarar uma função em Python nós utilizamos a palavra “def”, seguida pelo nome da função, parênteses e um dois-pontos. Lembrando que o código da função precisa ser identado em relação a declaração dela.\n",
    "\n",
    "def + nome():\n",
    "\n",
    "Exemplo:"
   ]
  },
  {
   "cell_type": "code",
   "execution_count": 1,
   "metadata": {},
   "outputs": [
    {
     "name": "stdout",
     "output_type": "stream",
     "text": [
      "Olá, bem-vindo!\n"
     ]
    }
   ],
   "source": [
    "# Definindo a função\n",
    "def boas_vindas():\n",
    "\tprint(\"Olá, bem-vindo!\")\n",
    "\n",
    "# Chamando a função\n",
    "boas_vindas()"
   ]
  },
  {
   "cell_type": "markdown",
   "metadata": {},
   "source": [
    "### Parametro de uma função\n",
    "\n",
    "São as variaveis definidas entre os parenteses da função, pode ser vista como uma variável de entrada."
   ]
  },
  {
   "cell_type": "code",
   "execution_count": 4,
   "metadata": {},
   "outputs": [],
   "source": [
    "# Defininindo 2 parametros\n",
    "def minha_funcao(parametro1, parametro2):\n",
    "\t# lógica da função\n",
    "\tpass"
   ]
  },
  {
   "cell_type": "markdown",
   "metadata": {},
   "source": [
    "### Argumento\n",
    "\n",
    "São os valores passados na chamada de uma função, são utilizados para passar os valores para o parametro de uma função"
   ]
  },
  {
   "cell_type": "code",
   "execution_count": 19,
   "metadata": {},
   "outputs": [
    {
     "name": "stdout",
     "output_type": "stream",
     "text": [
      "Valor de parametro1: 10\n",
      "Valor de parametro2: 20\n"
     ]
    }
   ],
   "source": [
    "def minha_funcao(parametro1, parametro2):\n",
    "    print(\"Valor de parametro1:\", parametro1)\n",
    "    print(\"Valor de parametro2:\", parametro2)\n",
    "\n",
    "# Chamando a função e passando os valores dos argumentos\n",
    "minha_funcao(10, 20)"
   ]
  },
  {
   "cell_type": "markdown",
   "metadata": {},
   "source": [
    "### Argumentos de uma função\n",
    "\n",
    "- Posicionais - Argumentos passados na ordem em que são definidos na função"
   ]
  },
  {
   "cell_type": "code",
   "execution_count": 3,
   "metadata": {},
   "outputs": [],
   "source": [
    "def funcao(a, b, c):\n",
    "    pass\n",
    "funcao(1, 2, 3)  # 1 é atribuído a 'a', 2 a 'b' e 3 a 'c'"
   ]
  },
  {
   "cell_type": "markdown",
   "metadata": {},
   "source": [
    "- Palavras-chave (Keyword Arguments) - Permite passar os argumentos usando o nome do parametro"
   ]
  },
  {
   "cell_type": "code",
   "execution_count": 6,
   "metadata": {},
   "outputs": [],
   "source": [
    "def funcao(a, b, c):\n",
    "    pass\n",
    "funcao(a=1, c=3, b=2)  # Pode estar em qualquer ordem"
   ]
  },
  {
   "cell_type": "markdown",
   "metadata": {},
   "source": [
    "- Argumentos Padrão - Argumentos que possuem um valor padrão, utilizado quando o argumento não é fornecido na chamada da função"
   ]
  },
  {
   "cell_type": "code",
   "execution_count": 18,
   "metadata": {},
   "outputs": [],
   "source": [
    "def funcao(a, b=2, c=3):\n",
    "    pass\n",
    "funcao(1)  # Aqui, 'a' recebe 1, enquanto 'b' e 'c' usam seus valores padrão"
   ]
  },
  {
   "cell_type": "markdown",
   "metadata": {},
   "source": [
    "### A instrução “return”\n",
    "\n",
    "É utilizado para enviar o resultado de uma função, normalmemente devemos usar o return quando queremos reutilizar o resultado de uma função, ou seja, compartilhar esse valor com outra função."
   ]
  },
  {
   "cell_type": "code",
   "execution_count": 17,
   "metadata": {},
   "outputs": [
    {
     "name": "stdout",
     "output_type": "stream",
     "text": [
      "8\n"
     ]
    }
   ],
   "source": [
    "def soma(a, b):\n",
    "    return a + b\n",
    "\n",
    "resultado = soma(5, 3)  # resultado recebe o valor 8\n",
    "print(resultado) # retorna o valor 8"
   ]
  },
  {
   "cell_type": "markdown",
   "metadata": {},
   "source": [
    "### Sem Return\n",
    "\n",
    "Sem utilizar o return, a função retorna None. Este comportamento deve ser evitado, sempre que possível, utilize o return."
   ]
  },
  {
   "cell_type": "code",
   "execution_count": 16,
   "metadata": {},
   "outputs": [
    {
     "name": "stdout",
     "output_type": "stream",
     "text": [
      "None\n"
     ]
    }
   ],
   "source": [
    "def soma(a, b):\n",
    "    a + b\n",
    "\n",
    "resultado = soma(5, 3)\n",
    "print(resultado) # retorna None"
   ]
  },
  {
   "cell_type": "markdown",
   "metadata": {},
   "source": [
    "### Funções Compostas\n",
    "\n",
    "É o ato de usar o resultado de uma função como entrada para outra função."
   ]
  },
  {
   "cell_type": "code",
   "execution_count": 15,
   "metadata": {},
   "outputs": [
    {
     "name": "stdout",
     "output_type": "stream",
     "text": [
      "4.0\n"
     ]
    }
   ],
   "source": [
    "def multiplicar_por_dois(n):\n",
    "    return n * 2\n",
    "\n",
    "def dividir_por_tres(n):\n",
    "    return n / 3\n",
    "\n",
    "def operacao_composta(n):\n",
    "    return dividir_por_tres(multiplicar_por_dois(n))\n",
    "\n",
    "\n",
    "print(operacao_composta(6))  # Resultado: 4.0"
   ]
  },
  {
   "cell_type": "markdown",
   "metadata": {},
   "source": [
    "Neste exemplo, **`operacao_composta`** é a função composta que primeiramente multiplica o número por 2 usando **`multiplicar_por_dois`** e depois divide o resultado por 3 usando **`dividir_por_tres`**."
   ]
  },
  {
   "cell_type": "markdown",
   "metadata": {},
   "source": [
    "### Quando utilizar uma função?\n",
    "\n",
    "Exemplo de um código sem abstração e reutilização"
   ]
  },
  {
   "cell_type": "code",
   "execution_count": 14,
   "metadata": {},
   "outputs": [
    {
     "name": "stdout",
     "output_type": "stream",
     "text": [
      "Multa pelo atraso: R$10\n",
      "Multa pelo atraso: R$4\n",
      "Multa pelo atraso: R$20\n"
     ]
    }
   ],
   "source": [
    "dias_atraso1 = 5\n",
    "dias_atraso2 = 2\n",
    "dias_atraso3 = 10\n",
    "\n",
    "multa1 = dias_atraso1 * 2\n",
    "print(f\"Multa pelo atraso: R${multa1}\")\n",
    "\n",
    "multa2 = dias_atraso2 * 2\n",
    "print(f\"Multa pelo atraso: R${multa2}\")\n",
    "\n",
    "multa3 = dias_atraso3 * 2\n",
    "print(f\"Multa pelo atraso: R${multa3}\")"
   ]
  },
  {
   "cell_type": "markdown",
   "metadata": {},
   "source": [
    "Exemplo de código com abstrações e reutilização de funções"
   ]
  },
  {
   "cell_type": "code",
   "execution_count": 13,
   "metadata": {},
   "outputs": [
    {
     "name": "stdout",
     "output_type": "stream",
     "text": [
      "Multa pelo atraso de 5 dias: R$10\n",
      "Multa pelo atraso de 2 dias: R$4\n",
      "Multa pelo atraso de 10 dias: R$20\n"
     ]
    }
   ],
   "source": [
    "def calcular_multa(dias_atraso):\n",
    "    return dias_atraso * 2\n",
    "\n",
    "def exibir_multa(dias_atraso):\n",
    "    multa = calcular_multa(dias_atraso)\n",
    "    print(f\"Multa pelo atraso de {dias_atraso} dias: R${multa}\")\n",
    "\n",
    "exibir_multa(5)\n",
    "exibir_multa(2)\n",
    "exibir_multa(10)"
   ]
  },
  {
   "cell_type": "markdown",
   "metadata": {},
   "source": [
    "### Escopo de variaveis\n",
    "\n",
    "- Escopo Local → Escopo DENTRO de uma função. Ou seja, só pode ser acessadas ou modificadas dentro dessa função"
   ]
  },
  {
   "cell_type": "code",
   "execution_count": 12,
   "metadata": {},
   "outputs": [
    {
     "name": "stdout",
     "output_type": "stream",
     "text": [
      "Eu sou local à minha_funcao\n"
     ]
    }
   ],
   "source": [
    "def minha_funcao():\n",
    "    variavel_local = \"Eu sou local à minha_funcao\"\n",
    "    print(variavel_local)\n",
    "\n",
    "minha_funcao()"
   ]
  },
  {
   "cell_type": "markdown",
   "metadata": {},
   "source": [
    "- Escopo Encerrado → Se refere ao escopo em funções aninhadas, onde uma função está dentro da outra. OBSERVAÇÃO: Se uma variavel não for encontrada no escpolo local, python procura no escopo da função externa."
   ]
  },
  {
   "cell_type": "code",
   "execution_count": 11,
   "metadata": {},
   "outputs": [
    {
     "name": "stdout",
     "output_type": "stream",
     "text": [
      "Eu sou da funcao_externa\n"
     ]
    }
   ],
   "source": [
    "def funcao_externa():\n",
    "    variavel_encerrada = \"Eu sou da funcao_externa\"\n",
    "\n",
    "    def funcao_interna():\n",
    "        print(variavel_encerrada)\n",
    "\n",
    "    funcao_interna()\n",
    "\n",
    "funcao_externa()"
   ]
  },
  {
   "cell_type": "markdown",
   "metadata": {},
   "source": [
    "- Escopo Global → Se refere a variaveis definidas no nível principal do código, ou seja, fora das funções. Pode ser lida de qualquer lugar do código, para modificar elas dentro de uma função é necessário usar palavra-chave global."
   ]
  },
  {
   "cell_type": "code",
   "execution_count": 10,
   "metadata": {},
   "outputs": [
    {
     "name": "stdout",
     "output_type": "stream",
     "text": [
      "Eu sou global\n",
      "Eu sou global e eu fui modificada\n"
     ]
    }
   ],
   "source": [
    "variavel_global = \"Eu sou global\"\n",
    "print(variavel_global)\n",
    "\n",
    "def minha_funcao():\n",
    "    global variavel_global\n",
    "    variavel_global += \" e eu fui modificada\"\n",
    "    print(variavel_global)\n",
    "\n",
    "minha_funcao()"
   ]
  },
  {
   "cell_type": "markdown",
   "metadata": {},
   "source": [
    "- Escopo Integrado (Built-in Scope) → Se refere ao escopo que contém nomes pré definidos pelo Python, como funções integradas (print, len, e etc). Esse escopo é o ultimo lugar que python procura caso não encontre a variavel nos escopos anteriores."
   ]
  },
  {
   "cell_type": "code",
   "execution_count": 9,
   "metadata": {},
   "outputs": [
    {
     "name": "stdout",
     "output_type": "stream",
     "text": [
      "\n"
     ]
    },
    {
     "ename": "TypeError",
     "evalue": "len() takes exactly one argument (0 given)",
     "output_type": "error",
     "traceback": [
      "\u001b[0;31m---------------------------------------------------------------------------\u001b[0m",
      "\u001b[0;31mTypeError\u001b[0m                                 Traceback (most recent call last)",
      "\u001b[1;32m/home/enaamtt/dev/ECAC/python/ericsson-garden/python-functions/apresentacao.ipynb Cell 32\u001b[0m line \u001b[0;36m3\n\u001b[1;32m      <a href='vscode-notebook-cell://wsl%2Bubuntu/home/enaamtt/dev/ECAC/python/ericsson-garden/python-functions/apresentacao.ipynb#X43sdnNjb2RlLXJlbW90ZQ%3D%3D?line=0'>1</a>\u001b[0m \u001b[39mprint\u001b[39m() \u001b[39m# Printar um valor\u001b[39;00m\n\u001b[0;32m----> <a href='vscode-notebook-cell://wsl%2Bubuntu/home/enaamtt/dev/ECAC/python/ericsson-garden/python-functions/apresentacao.ipynb#X43sdnNjb2RlLXJlbW90ZQ%3D%3D?line=2'>3</a>\u001b[0m \u001b[39mlen\u001b[39;49m() \u001b[39m# Verifica o tamanho de uma lista\u001b[39;00m\n\u001b[1;32m      <a href='vscode-notebook-cell://wsl%2Bubuntu/home/enaamtt/dev/ECAC/python/ericsson-garden/python-functions/apresentacao.ipynb#X43sdnNjb2RlLXJlbW90ZQ%3D%3D?line=4'>5</a>\u001b[0m \u001b[39mmin\u001b[39m() \u001b[39m# Retorna o valor minimo\u001b[39;00m\n\u001b[1;32m      <a href='vscode-notebook-cell://wsl%2Bubuntu/home/enaamtt/dev/ECAC/python/ericsson-garden/python-functions/apresentacao.ipynb#X43sdnNjb2RlLXJlbW90ZQ%3D%3D?line=6'>7</a>\u001b[0m \u001b[39mmax\u001b[39m() \u001b[39m# Retorna o valor maximo\u001b[39;00m\n",
      "\u001b[0;31mTypeError\u001b[0m: len() takes exactly one argument (0 given)"
     ]
    }
   ],
   "source": [
    "print() # Printar um valor\n",
    "\n",
    "len() # Verifica o tamanho de uma lista\n",
    "\n",
    "min() # Retorna o valor minimo\n",
    "\n",
    "max() # Retorna o valor maximo"
   ]
  },
  {
   "cell_type": "markdown",
   "metadata": {},
   "source": [
    "### Importando e exportando Funções\n",
    "\n",
    "Funções são organizadas em módulos, que basicamente são arquivos .py contendo funções, classes e variavéis.\n",
    "\n",
    "### Definindo funções em um módulo\n",
    "\n",
    "Criando um arquivo chamado de meu_modulo.py e definindo uma função para esse arquivo."
   ]
  },
  {
   "cell_type": "code",
   "execution_count": 8,
   "metadata": {},
   "outputs": [],
   "source": [
    "# meu_modulo.py\n",
    "\n",
    "def minha_funcao():\n",
    "    return \"Olá, esta é a minha função!\""
   ]
  },
  {
   "cell_type": "markdown",
   "metadata": {},
   "source": [
    "### Importando funções de um módulo\n",
    "\n",
    "Existe 3 formas de importa um módulo.\n",
    "\n",
    "- Importando módulo completo → Deve retornar todas as funções e classes do arquivo."
   ]
  },
  {
   "cell_type": "code",
   "execution_count": 5,
   "metadata": {},
   "outputs": [
    {
     "name": "stdout",
     "output_type": "stream",
     "text": [
      "Olá, esta é a minha função! 😎\n",
      "Está é a minha função 2 😁\n"
     ]
    }
   ],
   "source": [
    "import imports.meu_modulo\n",
    "\n",
    "print(imports.meu_modulo.minha_funcao())\n",
    "\n",
    "\n",
    "print(imports.meu_modulo.funcao_dois())"
   ]
  },
  {
   "cell_type": "markdown",
   "metadata": {},
   "source": [
    "- Importando apenas uma função específica"
   ]
  },
  {
   "cell_type": "code",
   "execution_count": 7,
   "metadata": {},
   "outputs": [
    {
     "name": "stdout",
     "output_type": "stream",
     "text": [
      "Olá, esta é a minha função! 😎\n"
     ]
    }
   ],
   "source": [
    "from imports.meu_modulo import minha_funcao\n",
    "\n",
    "print(minha_funcao())"
   ]
  },
  {
   "cell_type": "markdown",
   "metadata": {},
   "source": [
    "- Renomeando a função importada (usando um alias):"
   ]
  },
  {
   "cell_type": "code",
   "execution_count": 6,
   "metadata": {},
   "outputs": [
    {
     "name": "stdout",
     "output_type": "stream",
     "text": [
      "Olá, esta é a minha função! 😎\n"
     ]
    }
   ],
   "source": [
    "from imports.meu_modulo import minha_funcao as mf\n",
    "\n",
    "print(mf())"
   ]
  },
  {
   "cell_type": "markdown",
   "metadata": {},
   "source": [
    "### Exportando funções\n",
    "\n",
    "Por padrão, todas as definições em um módulo Python são “exportaveis” por padrão. Não existe nenhuma regra ou keyword para exportar, o Python faz isso automaticamente."
   ]
  }
 ],
 "metadata": {
  "kernelspec": {
   "display_name": "Python 3",
   "language": "python",
   "name": "python3"
  },
  "language_info": {
   "codemirror_mode": {
    "name": "ipython",
    "version": 3
   },
   "file_extension": ".py",
   "mimetype": "text/x-python",
   "name": "python",
   "nbconvert_exporter": "python",
   "pygments_lexer": "ipython3",
   "version": "3.9.18"
  }
 },
 "nbformat": 4,
 "nbformat_minor": 2
}
